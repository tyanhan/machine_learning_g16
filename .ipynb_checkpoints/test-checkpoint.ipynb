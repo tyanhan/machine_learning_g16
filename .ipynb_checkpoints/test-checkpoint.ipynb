{
 "cells": [
  {
   "cell_type": "code",
   "execution_count": 71,
   "id": "ab4acb7a-64dd-4107-9ee4-d0ee582724f4",
   "metadata": {
    "tags": []
   },
   "outputs": [],
   "source": [
    "import numpy as np\n",
    "import matplotlib.pyplot as plt\n",
    "import cv2 as cv\n",
    "from skimage.feature import hog\n",
    "from skimage.transform import resize\n",
    "from skimage.io import imread, imshow, imsave"
   ]
  },
  {
   "cell_type": "code",
   "execution_count": 70,
   "id": "a6dff234-7a99-4b49-88af-0a40d98ef085",
   "metadata": {
    "tags": []
   },
   "outputs": [],
   "source": [
    "import zipfile\n",
    "import glob\n",
    "\n",
    "file = glob.glob('./clothing-dataset-small-master.zip')\n",
    "\n",
    "with zipfile.ZipFile(file[0], 'r') as zip_ref:\n",
    "    zip_ref.extractall('data/')"
   ]
  },
  {
   "cell_type": "code",
   "execution_count": 75,
   "id": "98320d99-d645-4720-97f3-7980eac9159f",
   "metadata": {
    "scrolled": true,
    "tags": []
   },
   "outputs": [],
   "source": [
    "from PIL import Image\n",
    "import os\n",
    "\n",
    "data_types = [\"train\", \"test\", \"validation\"]\n",
    "\n",
    "for data_type in data_types:\n",
    "    folder_path = \"./data/clothing-dataset-small-master/\" + data_type\n",
    "    new_folder_path = \"./data/clothing-dataset-resized/\" + data_type\n",
    "\n",
    "    for folder in os.listdir(folder_path):\n",
    "        new_path = os.path.join(new_folder_path, folder)\n",
    "        if not os.path.exists(new_path):\n",
    "            os.makedirs(new_path)\n",
    "\n",
    "        for filename in os.listdir(os.path.join(folder_path, folder)):\n",
    "            # Open the image\n",
    "            if filename.endswith(\".jpg\") or filename.endswith(\".png\"):\n",
    "                image_path = os.path.join(folder_path, folder, filename)\n",
    "                img = cv.imread(image_path,cv.IMREAD_GRAYSCALE)\n",
    "                resized_img  = cv.resize(img, (64, 128),interpolation =cv.INTER_LINEAR)\n",
    "                imshow(resized_img )\n",
    "                fd, hog_image = hog(resized_img , orientations=9, pixels_per_cell=(8, 8), \n",
    "                    cells_per_block=(2, 2), visualize=True)\n",
    "                # Display original and HOG images\n",
    "#                 hog_img = Image.fromarray(hog_image.astype(np.uint8))\n",
    "#                 imshow(hog_img)\n",
    "\n",
    "                new_image_path = os.path.join(new_folder_path, folder, filename)\n",
    "#                 imsave(new_image_path, hog)\n",
    "                cv.imwrite(new_image_path, hog_image)"
   ]
  },
  {
   "cell_type": "code",
   "execution_count": null,
   "id": "7817a3be",
   "metadata": {},
   "outputs": [],
   "source": []
  },
  {
   "cell_type": "code",
   "execution_count": 89,
   "id": "6e4ebdb3-1e65-431a-9801-8c36916a43c2",
   "metadata": {
    "tags": []
   },
   "outputs": [],
   "source": [
    "X_train = []\n",
    "y_train = []\n",
    "train_folder = \"./data/clothing-dataset-resized/train\"\n",
    "for folder in os.listdir(train_folder):\n",
    "    for filename in os.listdir(os.path.join(train_folder, folder)):\n",
    "        if filename.endswith(\".jpg\") or filename.endswith(\".png\"):\n",
    "            image_path = os.path.join(train_folder, folder, filename)\n",
    "            img = Image.open(image_path)\n",
    "            array = np.array(img).ravel()\n",
    "            X_train.append(array)\n",
    "            y_train.append(folder)\n",
    "            \n",
    "X_test = []\n",
    "y_test = []\n",
    "test_folder = \"./data/clothing-dataset-resized/test\"\n",
    "for folder in os.listdir(test_folder):\n",
    "    for filename in os.listdir(os.path.join(test_folder, folder)):\n",
    "        if filename.endswith(\".jpg\") or filename.endswith(\".png\"):\n",
    "            image_path = os.path.join(test_folder, folder, filename)\n",
    "            img = Image.open(image_path)\n",
    "            array = np.array(img).ravel()\n",
    "            X_test.append(array)\n",
    "            y_test.append(folder)\n",
    "            \n",
    "X_val = []\n",
    "y_val = []\n",
    "val_folder = \"./data/clothing-dataset-resized/validation\"\n",
    "for folder in os.listdir(val_folder):\n",
    "    for filename in os.listdir(os.path.join(val_folder, folder)):\n",
    "        if filename.endswith(\".jpg\") or filename.endswith(\".png\"):\n",
    "            image_path = os.path.join(val_folder, folder, filename)\n",
    "            img = Image.open(image_path)\n",
    "            array = np.array(img).ravel()\n",
    "            X_val.append(array)\n",
    "            y_val.append(folder)"
   ]
  },
  {
   "cell_type": "code",
   "execution_count": 93,
   "id": "2667cc79-34c5-401d-a690-4f28ce4f5eb6",
   "metadata": {
    "tags": []
   },
   "outputs": [
    {
     "name": "stdout",
     "output_type": "stream",
     "text": [
      "Best k: 9\n",
      "Best accuracy: 0.4596774193548387\n",
      "Validation accuracy: 0.5659824046920822\n"
     ]
    }
   ],
   "source": [
    "from sklearn.neighbors import KNeighborsClassifier\n",
    "from sklearn.metrics import accuracy_score\n",
    "\n",
    "max_accuracy = 0\n",
    "k = 2\n",
    "for i in range(2, 10):\n",
    "    knn = KNeighborsClassifier(n_neighbors=i)\n",
    "    knn.fit(X_train, y_train)\n",
    "    y_pred = knn.predict(X_test)\n",
    "    accuracy = accuracy_score(y_test, y_pred)\n",
    "    if accuracy > max_accuracy:\n",
    "        max_accuracy = accuracy\n",
    "        k = i\n",
    "\n",
    "print(\"Best k: \" + str(k))\n",
    "print(\"Best accuracy: \" + str(max_accuracy))\n",
    "\n",
    "knn = KNeighborsClassifier(n_neighbors=k)\n",
    "knn.fit(X_train, y_train)\n",
    "y_pred = knn.predict(X_val)\n",
    "print(\"Validation accuracy: \" + str(accuracy_score(y_val, y_pred)))"
   ]
  },
  {
   "cell_type": "code",
   "execution_count": 94,
   "id": "fe5d645f-cece-4412-a3b2-eca1552809cd",
   "metadata": {
    "tags": []
   },
   "outputs": [
    {
     "name": "stdout",
     "output_type": "stream",
     "text": [
      "Best depth: 6\n",
      "Best accuracy: 0.34946236559139787\n",
      "Validation accuracy: 0.39589442815249265\n"
     ]
    }
   ],
   "source": [
    "from sklearn.tree import DecisionTreeClassifier\n",
    "from sklearn.metrics import accuracy_score\n",
    "\n",
    "max_accuracy = 0\n",
    "max_depth = 2\n",
    "for i in range(2, 10):\n",
    "    dt = DecisionTreeClassifier(max_depth=i, max_features=2048)\n",
    "    dt.fit(X_train, y_train)\n",
    "    y_pred = dt.predict(X_test)\n",
    "    accuracy = accuracy_score(y_test, y_pred)\n",
    "    if accuracy > max_accuracy:\n",
    "        max_accuracy = accuracy\n",
    "        max_depth = i\n",
    "\n",
    "print(\"Best depth: \" + str(max_depth))\n",
    "print(\"Best accuracy: \" + str(max_accuracy))\n",
    "\n",
    "dt = DecisionTreeClassifier(max_depth=max_depth, max_features=1024)\n",
    "dt.fit(X_train, y_train)\n",
    "y_pred = dt.predict(X_val)\n",
    "print(\"Validation accuracy: \" + str(accuracy_score(y_val, y_pred)))"
   ]
  },
  {
   "cell_type": "code",
   "execution_count": null,
   "id": "dc5d4383",
   "metadata": {},
   "outputs": [],
   "source": []
  },
  {
   "cell_type": "code",
   "execution_count": null,
   "id": "d0ec05c3",
   "metadata": {},
   "outputs": [],
   "source": []
  }
 ],
 "metadata": {
  "kernelspec": {
   "display_name": "Python 3 (ipykernel)",
   "language": "python",
   "name": "python3"
  },
  "language_info": {
   "codemirror_mode": {
    "name": "ipython",
    "version": 3
   },
   "file_extension": ".py",
   "mimetype": "text/x-python",
   "name": "python",
   "nbconvert_exporter": "python",
   "pygments_lexer": "ipython3",
   "version": "3.9.6"
  }
 },
 "nbformat": 4,
 "nbformat_minor": 5
}
